{
 "cells": [
  {
   "cell_type": "markdown",
   "metadata": {},
   "source": [
    "# Import Packages"
   ]
  },
  {
   "cell_type": "code",
   "execution_count": 1,
   "metadata": {},
   "outputs": [],
   "source": [
    "from experiment import inn_experiment as ie\n",
    "from architecture import inn_architectures as ia\n",
    "from functionalities import gpu "
   ]
  },
  {
   "cell_type": "markdown",
   "metadata": {},
   "source": [
    "# Set Training Parameters"
   ]
  },
  {
   "cell_type": "code",
   "execution_count": 2,
   "metadata": {},
   "outputs": [
    {
     "name": "stdout",
     "output_type": "stream",
     "text": [
      "Node r1 has following input dimensions:\n",
      "\t Output #0 of node input: (3, 224, 224)\n",
      "\n",
      "Node conv11 has following input dimensions:\n",
      "\t Output #0 of node r1: (12, 112, 112)\n",
      "\n",
      "Node conv12 has following input dimensions:\n",
      "\t Output #0 of node conv11: (12, 112, 112)\n",
      "\n",
      "Node conv13 has following input dimensions:\n",
      "\t Output #0 of node conv12: (12, 112, 112)\n",
      "\n",
      "Node conv21 has following input dimensions:\n",
      "\t Output #0 of node conv13: (12, 112, 112)\n",
      "\n",
      "Node conv22 has following input dimensions:\n",
      "\t Output #0 of node conv21: (12, 112, 112)\n",
      "\n",
      "Node conv23 has following input dimensions:\n",
      "\t Output #0 of node conv22: (12, 112, 112)\n",
      "\n",
      "Node conv31 has following input dimensions:\n",
      "\t Output #0 of node conv23: (12, 112, 112)\n",
      "\n",
      "Node conv32 has following input dimensions:\n",
      "\t Output #0 of node conv31: (12, 112, 112)\n",
      "\n",
      "Node conv33 has following input dimensions:\n",
      "\t Output #0 of node conv32: (12, 112, 112)\n",
      "\n",
      "Node conv41 has following input dimensions:\n",
      "\t Output #0 of node conv33: (12, 112, 112)\n",
      "\n",
      "Node conv42 has following input dimensions:\n",
      "\t Output #0 of node conv41: (12, 112, 112)\n",
      "\n",
      "Node conv43 has following input dimensions:\n",
      "\t Output #0 of node conv42: (12, 112, 112)\n",
      "\n",
      "Node r2 has following input dimensions:\n",
      "\t Output #0 of node conv43: (12, 112, 112)\n",
      "\n",
      "internal_size: 128\n",
      "internal_size: 128\n",
      "internal_size: 128\n",
      "internal_size: 128\n",
      "Node fc has following input dimensions:\n",
      "\t Output #0 of node r2: (150528,)\n",
      "\n",
      "Node r3 has following input dimensions:\n",
      "\t Output #0 of node fc: (150528,)\n",
      "\n",
      "Node output has following input dimensions:\n",
      "\t Output #0 of node r3: (3, 224, 224)\n",
      "\n",
      "cuda\n"
     ]
    }
   ],
   "source": [
    "num_epoch = 10\n",
    "batch_size = 8\n",
    "lr_init = 1e-3\n",
    "milestones = [5, 8, 10]\n",
    "model = ia.artset_inn_model()\n",
    "modelname = \"inn_artset\"\n",
    "number_dev = 3\n",
    "sigma = 1\n",
    "\n",
    "device = gpu.get_device(number_dev)\n",
    "print(device)"
   ]
  },
  {
   "cell_type": "markdown",
   "metadata": {},
   "source": [
    "# Training"
   ]
  },
  {
   "cell_type": "code",
   "execution_count": 3,
   "metadata": {},
   "outputs": [],
   "source": [
    "import PIL.Image\n",
    "PIL.Image.MAX_IMAGE_PIXELS = None"
   ]
  },
  {
   "cell_type": "code",
   "execution_count": null,
   "metadata": {
    "scrolled": false
   },
   "outputs": [
    {
     "name": "stdout",
     "output_type": "stream",
     "text": [
      "Device used for further computation is: cuda\n",
      "\n",
      "--------------------------------------------------------------------------------\n",
      "\n",
      "Epoch: 1\n",
      "Training:\n"
     ]
    },
    {
     "data": {
      "application/vnd.jupyter.widget-view+json": {
       "model_id": "637d99c731114f9686e85965ea6b09c7",
       "version_major": 2,
       "version_minor": 0
      },
      "text/plain": [
       "HBox(children=(IntProgress(value=0, max=7943), HTML(value='')))"
      ]
     },
     "metadata": {},
     "output_type": "display_data"
    }
   ],
   "source": [
    "inn_exp = ie.inn_experiment(num_epoch, batch_size, lr_init, milestones, model, modelname, device, sigma)\n",
    "inn_exp.get_dataset(\"artset\")\n",
    "inn_exp.train()"
   ]
  },
  {
   "cell_type": "markdown",
   "metadata": {},
   "source": [
    "# Plots"
   ]
  },
  {
   "cell_type": "code",
   "execution_count": null,
   "metadata": {},
   "outputs": [],
   "source": [
    "inn_exp.plot_loss()"
   ]
  },
  {
   "cell_type": "code",
   "execution_count": null,
   "metadata": {},
   "outputs": [],
   "source": []
  }
 ],
 "metadata": {
  "kernelspec": {
   "display_name": "Python 3",
   "language": "python",
   "name": "python3"
  },
  "language_info": {
   "codemirror_mode": {
    "name": "ipython",
    "version": 3
   },
   "file_extension": ".py",
   "mimetype": "text/x-python",
   "name": "python",
   "nbconvert_exporter": "python",
   "pygments_lexer": "ipython3",
   "version": "3.6.8"
  }
 },
 "nbformat": 4,
 "nbformat_minor": 2
}
