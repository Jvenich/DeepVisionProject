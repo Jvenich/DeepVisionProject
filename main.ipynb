{
 "cells": [
  {
   "cell_type": "markdown",
   "metadata": {},
   "source": [
    "# Import Packages"
   ]
  },
  {
   "cell_type": "code",
   "execution_count": 1,
   "metadata": {},
   "outputs": [],
   "source": [
    "from experiment import classic_experiment as ce\n",
    "from architecture import classic_architectures as ca\n",
    "from functionalities import gpu "
   ]
  },
  {
   "cell_type": "markdown",
   "metadata": {},
   "source": [
    "# Set Training Parameters (classic)"
   ]
  },
  {
   "cell_type": "code",
   "execution_count": 2,
   "metadata": {},
   "outputs": [],
   "source": [
    "num_epoch = 100\n",
    "batch_size = 128\n",
    "lr_init = 1e-3\n",
    "milestones = [50, 80, 100]\n",
    "get_model = ca.mnist_model\n",
    "modelname = \"classic_mnist\"\n",
    "number_dev = 0\n",
    "\n",
    "device = gpu.get_device(number_dev)\n",
    "print(device)"
   ]
  },
  {
   "cell_type": "markdown",
   "metadata": {},
   "source": [
    "# Training (classic)"
   ]
  },
  {
   "cell_type": "code",
   "execution_count": null,
   "metadata": {},
   "outputs": [
    {
     "name": "stdout",
     "output_type": "stream",
     "text": [
      "epoch [1/100], train loss:0.0187\n",
      "epoch [2/100], train loss:0.0055\n",
      "epoch [3/100], train loss:0.0035\n",
      "epoch [4/100], train loss:0.0011\n",
      "epoch [5/100], train loss:0.0044\n",
      "epoch [6/100], train loss:0.0065\n",
      "epoch [7/100], train loss:0.0037\n",
      "epoch [8/100], train loss:0.0004\n",
      "epoch [9/100], train loss:0.0157\n",
      "epoch [10/100], train loss:0.0046\n",
      "epoch [11/100], train loss:0.0003\n",
      "epoch [12/100], train loss:0.0097\n",
      "epoch [13/100], train loss:0.0009\n",
      "epoch [14/100], train loss:0.0060\n",
      "epoch [15/100], train loss:0.0001\n",
      "epoch [16/100], train loss:0.0008\n",
      "epoch [17/100], train loss:0.0004\n",
      "epoch [18/100], train loss:0.0045\n",
      "epoch [19/100], train loss:0.0003\n",
      "epoch [20/100], train loss:0.0004\n",
      "epoch [21/100], train loss:0.0147\n",
      "epoch [22/100], train loss:0.0010\n",
      "epoch [23/100], train loss:0.0014\n",
      "epoch [24/100], train loss:0.0059\n",
      "epoch [25/100], train loss:0.0002\n",
      "epoch [26/100], train loss:0.0005\n",
      "epoch [27/100], train loss:0.0003\n",
      "epoch [28/100], train loss:0.0010\n",
      "epoch [29/100], train loss:0.0001\n",
      "epoch [30/100], train loss:0.0003\n",
      "epoch [31/100], train loss:0.0001\n",
      "epoch [32/100], train loss:0.0051\n",
      "epoch [33/100], train loss:0.0003\n",
      "epoch [34/100], train loss:0.0002\n",
      "epoch [35/100], train loss:0.0007\n",
      "epoch [36/100], train loss:0.0002\n",
      "epoch [37/100], train loss:0.0002\n",
      "epoch [38/100], train loss:0.0002\n",
      "epoch [39/100], train loss:0.0001\n",
      "epoch [40/100], train loss:0.0080\n",
      "epoch [41/100], train loss:0.0021\n",
      "epoch [42/100], train loss:0.0002\n",
      "epoch [43/100], train loss:0.0009\n",
      "epoch [44/100], train loss:0.0000\n",
      "epoch [45/100], train loss:0.0005\n",
      "epoch [46/100], train loss:0.0001\n",
      "epoch [47/100], train loss:0.0001\n",
      "epoch [48/100], train loss:0.0002\n",
      "epoch [49/100], train loss:0.0000\n",
      "epoch [50/100], train loss:0.0002\n",
      "epoch [51/100], train loss:0.0001\n",
      "epoch [52/100], train loss:0.0001\n",
      "epoch [53/100], train loss:0.0001\n",
      "epoch [54/100], train loss:0.0001\n",
      "epoch [55/100], train loss:0.0001\n",
      "epoch [56/100], train loss:0.0001\n",
      "epoch [57/100], train loss:0.0000\n",
      "epoch [58/100], train loss:0.0000\n",
      "epoch [59/100], train loss:0.0000\n",
      "epoch [60/100], train loss:0.0000\n",
      "epoch [61/100], train loss:0.0000\n"
     ]
    }
   ],
   "source": [
    "cl_exp = ce.classic_experiment(num_epoch, batch_size, lr_init, milestones, get_model, modelname, device)\n",
    "cl_exp.get_dataset(\"mnist\")\n",
    "cl_exp.train()\n",
    "cl_exp.plot_accuracy()"
   ]
  },
  {
   "cell_type": "code",
   "execution_count": null,
   "metadata": {},
   "outputs": [],
   "source": []
  }
 ],
 "metadata": {
  "kernelspec": {
   "display_name": "Python 3",
   "language": "python",
   "name": "python3"
  },
  "language_info": {
   "codemirror_mode": {
    "name": "ipython",
    "version": 3
   },
   "file_extension": ".py",
   "mimetype": "text/x-python",
   "name": "python",
   "nbconvert_exporter": "python",
   "pygments_lexer": "ipython3",
   "version": "3.6.8"
  }
 },
 "nbformat": 4,
 "nbformat_minor": 2
}
